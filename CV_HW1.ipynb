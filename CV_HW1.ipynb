{
  "nbformat": 4,
  "nbformat_minor": 0,
  "metadata": {
    "colab": {
      "name": "CV - HW1.ipynb",
      "provenance": [],
      "authorship_tag": "ABX9TyPEepZHW+hDhFQ+saojutse",
      "include_colab_link": true
    },
    "kernelspec": {
      "name": "python3",
      "display_name": "Python 3"
    },
    "language_info": {
      "name": "python"
    }
  },
  "cells": [
    {
      "cell_type": "markdown",
      "metadata": {
        "id": "view-in-github",
        "colab_type": "text"
      },
      "source": [
        "<a href=\"https://colab.research.google.com/github/mirceavaman/computer_vision2021/blob/main/CV_HW1.ipynb\" target=\"_parent\"><img src=\"https://colab.research.google.com/assets/colab-badge.svg\" alt=\"Open In Colab\"/></a>"
      ]
    },
    {
      "cell_type": "markdown",
      "metadata": {
        "id": "dyIWUuhUdbAV"
      },
      "source": [
        "#Homework 1\n",
        "Mircea Vaman\n",
        "\n",
        "\n",
        "Big Data, $2^{nd}$ year"
      ]
    },
    {
      "cell_type": "markdown",
      "metadata": {
        "id": "ahXrX2mVeGJ8"
      },
      "source": [
        ""
      ]
    },
    {
      "cell_type": "code",
      "metadata": {
        "id": "tt03BfdAdZzz"
      },
      "source": [
        ""
      ],
      "execution_count": null,
      "outputs": []
    }
  ]
}